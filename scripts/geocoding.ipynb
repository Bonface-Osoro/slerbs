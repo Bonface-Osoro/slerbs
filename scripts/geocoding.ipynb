{
 "cells": [
  {
   "cell_type": "code",
   "execution_count": 1,
   "id": "846bfbb1-6c56-4bb8-b351-f8ed56d1272d",
   "metadata": {},
   "outputs": [],
   "source": [
    "import os\n",
    "import pandas as pd\n",
    "import geopandas as gpd\n",
    "from geopy.geocoders import Nominatim\n",
    "from geopy.extra.rate_limiter import RateLimiter"
   ]
  },
  {
   "cell_type": "code",
   "execution_count": 2,
   "id": "42fc3ff7-2e6f-47ab-9394-9d17ba769618",
   "metadata": {},
   "outputs": [],
   "source": [
    "data_path = os.path.join('..', 'data')\n",
    "filename = 'Sustainability Literature review.csv'\n",
    "data = os.path.join(data_path, filename)\n",
    "\n",
    "df = pd.read_csv(data)"
   ]
  },
  {
   "cell_type": "code",
   "execution_count": 3,
   "id": "ecac9d56-298f-4a63-9bba-2969ff510c82",
   "metadata": {},
   "outputs": [
    {
     "data": {
      "text/html": [
       "<div>\n",
       "<style scoped>\n",
       "    .dataframe tbody tr th:only-of-type {\n",
       "        vertical-align: middle;\n",
       "    }\n",
       "\n",
       "    .dataframe tbody tr th {\n",
       "        vertical-align: top;\n",
       "    }\n",
       "\n",
       "    .dataframe thead th {\n",
       "        text-align: right;\n",
       "    }\n",
       "</style>\n",
       "<table border=\"1\" class=\"dataframe\">\n",
       "  <thead>\n",
       "    <tr style=\"text-align: right;\">\n",
       "      <th></th>\n",
       "      <th>year</th>\n",
       "      <th>author_city</th>\n",
       "      <th>country</th>\n",
       "      <th>continent</th>\n",
       "      <th>number</th>\n",
       "      <th>income</th>\n",
       "      <th>publisher</th>\n",
       "      <th>meta_publisher</th>\n",
       "      <th>access</th>\n",
       "      <th>technology</th>\n",
       "      <th>sub_category</th>\n",
       "      <th>open_code</th>\n",
       "      <th>open_data</th>\n",
       "      <th>spatial_focus</th>\n",
       "      <th>SDG</th>\n",
       "      <th>Methodology</th>\n",
       "      <th>Application</th>\n",
       "      <th>Title</th>\n",
       "    </tr>\n",
       "  </thead>\n",
       "  <tbody>\n",
       "    <tr>\n",
       "      <th>0</th>\n",
       "      <td>2022</td>\n",
       "      <td>Trondheim</td>\n",
       "      <td>Norway</td>\n",
       "      <td>Europe</td>\n",
       "      <td>1</td>\n",
       "      <td>NaN</td>\n",
       "      <td>IEEE</td>\n",
       "      <td>Access</td>\n",
       "      <td>Free</td>\n",
       "      <td>All</td>\n",
       "      <td>NaN</td>\n",
       "      <td>Not Applicable</td>\n",
       "      <td>Not Applicable</td>\n",
       "      <td>Not Applicable</td>\n",
       "      <td>All</td>\n",
       "      <td>Literature Review</td>\n",
       "      <td>General Information</td>\n",
       "      <td>A Tertiary Review on Blockchain and Sustainabi...</td>\n",
       "    </tr>\n",
       "    <tr>\n",
       "      <th>1</th>\n",
       "      <td>2018</td>\n",
       "      <td>Santiago</td>\n",
       "      <td>Chile</td>\n",
       "      <td>South America</td>\n",
       "      <td>1</td>\n",
       "      <td>NaN</td>\n",
       "      <td>IEEE</td>\n",
       "      <td>Access</td>\n",
       "      <td>Free</td>\n",
       "      <td>All</td>\n",
       "      <td>NaN</td>\n",
       "      <td>Not Applicable</td>\n",
       "      <td>Not Applicable</td>\n",
       "      <td>Not Applicable</td>\n",
       "      <td>All</td>\n",
       "      <td>Literature Review</td>\n",
       "      <td>General Information</td>\n",
       "      <td>Information and Communications Technologies fo...</td>\n",
       "    </tr>\n",
       "    <tr>\n",
       "      <th>2</th>\n",
       "      <td>2024</td>\n",
       "      <td>Pretoria</td>\n",
       "      <td>South Africa</td>\n",
       "      <td>North America</td>\n",
       "      <td>1</td>\n",
       "      <td>UMC</td>\n",
       "      <td>IEEE</td>\n",
       "      <td>Access</td>\n",
       "      <td>Free</td>\n",
       "      <td>All</td>\n",
       "      <td>NaN</td>\n",
       "      <td>Not Applicable</td>\n",
       "      <td>Not Applicable</td>\n",
       "      <td>Not Applicable</td>\n",
       "      <td>All</td>\n",
       "      <td>Experiment &amp; Survey</td>\n",
       "      <td>General Information</td>\n",
       "      <td>Supporting the Measurement of Sustainable Deve...</td>\n",
       "    </tr>\n",
       "  </tbody>\n",
       "</table>\n",
       "</div>"
      ],
      "text/plain": [
       "   year author_city       country      continent  number income publisher  \\\n",
       "0  2022   Trondheim        Norway         Europe       1    NaN      IEEE   \n",
       "1  2018    Santiago         Chile  South America       1    NaN      IEEE   \n",
       "2  2024    Pretoria  South Africa  North America       1    UMC      IEEE   \n",
       "\n",
       "  meta_publisher access technology sub_category       open_code  \\\n",
       "0         Access   Free        All          NaN  Not Applicable   \n",
       "1         Access   Free        All          NaN  Not Applicable   \n",
       "2         Access   Free        All          NaN  Not Applicable   \n",
       "\n",
       "        open_data   spatial_focus  SDG          Methodology  \\\n",
       "0  Not Applicable  Not Applicable  All    Literature Review   \n",
       "1  Not Applicable  Not Applicable  All    Literature Review   \n",
       "2  Not Applicable  Not Applicable  All  Experiment & Survey   \n",
       "\n",
       "           Application                                              Title  \n",
       "0  General Information  A Tertiary Review on Blockchain and Sustainabi...  \n",
       "1  General Information  Information and Communications Technologies fo...  \n",
       "2  General Information  Supporting the Measurement of Sustainable Deve...  "
      ]
     },
     "execution_count": 3,
     "metadata": {},
     "output_type": "execute_result"
    }
   ],
   "source": [
    "df.head(3)"
   ]
  },
  {
   "cell_type": "markdown",
   "id": "d5517814-9bec-416d-8345-a7c179a42bc0",
   "metadata": {},
   "source": [
    "Initialize Nominatim API"
   ]
  },
  {
   "cell_type": "code",
   "execution_count": 4,
   "id": "7f5b4438-e652-4c56-9d6a-ef6d8c02e694",
   "metadata": {},
   "outputs": [],
   "source": [
    "geolocator = Nominatim(user_agent = \"bonfaceosoro@gmail.com\")"
   ]
  },
  {
   "cell_type": "markdown",
   "id": "0bf2b60e-a920-4c58-b55e-0ab6f352f445",
   "metadata": {},
   "source": [
    "Rate limit to avoid service overload"
   ]
  },
  {
   "cell_type": "code",
   "execution_count": 5,
   "id": "60b1a6e6-deee-4ca3-9d98-d72395514751",
   "metadata": {},
   "outputs": [],
   "source": [
    "geocode = RateLimiter(geolocator.geocode, min_delay_seconds=1)"
   ]
  },
  {
   "cell_type": "markdown",
   "id": "9c663311-8203-4ed1-8d13-7bc6fbc2ff2b",
   "metadata": {},
   "source": [
    "Function to get latitude and longitude"
   ]
  },
  {
   "cell_type": "code",
   "execution_count": 6,
   "id": "b7b4853d-bd5e-40ee-b6cd-9135791e5f41",
   "metadata": {},
   "outputs": [],
   "source": [
    "def get_coordinates(city):\n",
    "    \n",
    "    location = geolocator.geocode(city)\n",
    "    \n",
    "    if location:\n",
    "        \n",
    "        return pd.Series([location.latitude, location.longitude])\n",
    "        \n",
    "    else:\n",
    "        \n",
    "        return pd.Series([None, None])"
   ]
  },
  {
   "cell_type": "code",
   "execution_count": 7,
   "id": "0bbd9138-ade2-4780-b5cc-67d56b452a1b",
   "metadata": {},
   "outputs": [],
   "source": [
    "df[['latitude', 'longitude']] = df['author_city'].apply(get_coordinates)"
   ]
  },
  {
   "cell_type": "code",
   "execution_count": 8,
   "id": "73a01ca2-4d6d-46ef-8d95-1dc6af187d4a",
   "metadata": {},
   "outputs": [],
   "source": [
    "fileout = 'literature_coordinates.csv'\n",
    "folder_out = os.path.join('..', 'results')\n",
    "\n",
    "if not os.path.exists(folder_out):\n",
    "\n",
    "    os.makedirs(folder_out)\n",
    "\n",
    "path_out = os.path.join(folder_out, fileout)"
   ]
  },
  {
   "cell_type": "code",
   "execution_count": 9,
   "id": "b65de6e7-28da-43e4-98b5-2e4664396218",
   "metadata": {},
   "outputs": [
    {
     "name": "stderr",
     "output_type": "stream",
     "text": [
      "/var/folders/26/c8kdf2_x3x5bcbqcrtq4hml80000gn/T/ipykernel_3907/2659378485.py:2: FutureWarning: The geopandas.dataset module is deprecated and will be removed in GeoPandas 1.0. You can get the original 'naturalearth_lowres' data from https://www.naturalearthdata.com/downloads/110m-cultural-vectors/.\n",
      "  world = gpd.read_file(gpd.datasets.get_path('naturalearth_lowres'))\n"
     ]
    }
   ],
   "source": [
    "gdf = gpd.GeoDataFrame(df, geometry = gpd.points_from_xy(df.latitude, df.longitude))\n",
    "world = gpd.read_file(gpd.datasets.get_path('naturalearth_lowres'))"
   ]
  },
  {
   "cell_type": "code",
   "execution_count": 10,
   "id": "7440f004-f891-4c60-bb76-b8a2aad907e7",
   "metadata": {},
   "outputs": [],
   "source": [
    "df.to_csv(path_out)"
   ]
  },
  {
   "cell_type": "code",
   "execution_count": null,
   "id": "b4dba112-3afb-493d-9321-587c3b8f9019",
   "metadata": {},
   "outputs": [],
   "source": []
  }
 ],
 "metadata": {
  "kernelspec": {
   "display_name": "Python 3 (ipykernel)",
   "language": "python",
   "name": "python3"
  },
  "language_info": {
   "codemirror_mode": {
    "name": "ipython",
    "version": 3
   },
   "file_extension": ".py",
   "mimetype": "text/x-python",
   "name": "python",
   "nbconvert_exporter": "python",
   "pygments_lexer": "ipython3",
   "version": "3.12.2"
  }
 },
 "nbformat": 4,
 "nbformat_minor": 5
}
