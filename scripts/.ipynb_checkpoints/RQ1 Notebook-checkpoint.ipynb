{
 "cells": [
  {
   "cell_type": "code",
   "execution_count": 1,
   "id": "e56f0444-ef1a-4bc6-93e6-8538d25eee1e",
   "metadata": {},
   "outputs": [],
   "source": [
    "import pandas as pd"
   ]
  },
  {
   "cell_type": "markdown",
   "id": "a0ea4884-2741-47dd-a37e-1f5b88a13b78",
   "metadata": {},
   "source": [
    "Read the data"
   ]
  },
  {
   "cell_type": "code",
   "execution_count": 3,
   "id": "8833b134-406e-476d-8eda-ddf3f9e99903",
   "metadata": {},
   "outputs": [
    {
     "data": {
      "text/html": [
       "<div>\n",
       "<style scoped>\n",
       "    .dataframe tbody tr th:only-of-type {\n",
       "        vertical-align: middle;\n",
       "    }\n",
       "\n",
       "    .dataframe tbody tr th {\n",
       "        vertical-align: top;\n",
       "    }\n",
       "\n",
       "    .dataframe thead th {\n",
       "        text-align: right;\n",
       "    }\n",
       "</style>\n",
       "<table border=\"1\" class=\"dataframe\">\n",
       "  <thead>\n",
       "    <tr style=\"text-align: right;\">\n",
       "      <th></th>\n",
       "      <th>Year</th>\n",
       "      <th>Author City</th>\n",
       "      <th>Country</th>\n",
       "      <th>Publisher</th>\n",
       "      <th>Meta Publisher</th>\n",
       "      <th>Access</th>\n",
       "      <th>Broadband Technology</th>\n",
       "      <th>Sub-category</th>\n",
       "      <th>Open Code</th>\n",
       "      <th>Open Data</th>\n",
       "      <th>case study</th>\n",
       "      <th>Algorithm</th>\n",
       "      <th>Methodology</th>\n",
       "      <th>Application</th>\n",
       "      <th>Title</th>\n",
       "    </tr>\n",
       "  </thead>\n",
       "  <tbody>\n",
       "    <tr>\n",
       "      <th>0</th>\n",
       "      <td>2022</td>\n",
       "      <td>Beirut</td>\n",
       "      <td>Lebanon</td>\n",
       "      <td>IEEE</td>\n",
       "      <td>Access</td>\n",
       "      <td>Free</td>\n",
       "      <td>Wireless</td>\n",
       "      <td>Mobile</td>\n",
       "      <td>Not Applicable</td>\n",
       "      <td>Not Applicable</td>\n",
       "      <td>NaN</td>\n",
       "      <td>Not Applicable</td>\n",
       "      <td>Literature Review</td>\n",
       "      <td>General Information</td>\n",
       "      <td>On LTE cellular network planning under demand ...</td>\n",
       "    </tr>\n",
       "    <tr>\n",
       "      <th>1</th>\n",
       "      <td>2022</td>\n",
       "      <td>Beijing</td>\n",
       "      <td>China</td>\n",
       "      <td>IEEE</td>\n",
       "      <td>Access</td>\n",
       "      <td>Free</td>\n",
       "      <td>Wireless</td>\n",
       "      <td>WI-FI</td>\n",
       "      <td>Not Applicable</td>\n",
       "      <td>Not Applicable</td>\n",
       "      <td>NaN</td>\n",
       "      <td>Integer  Programming</td>\n",
       "      <td>Model</td>\n",
       "      <td>Traffic</td>\n",
       "      <td>Distributed Graph-Based Optimization of Multic...</td>\n",
       "    </tr>\n",
       "    <tr>\n",
       "      <th>2</th>\n",
       "      <td>2022</td>\n",
       "      <td>Beijing</td>\n",
       "      <td>China</td>\n",
       "      <td>IEEE</td>\n",
       "      <td>Access</td>\n",
       "      <td>Free</td>\n",
       "      <td>Wireless</td>\n",
       "      <td>Mobile</td>\n",
       "      <td>No</td>\n",
       "      <td>Yes</td>\n",
       "      <td>NaN</td>\n",
       "      <td>Integer  Programming</td>\n",
       "      <td>Simulation</td>\n",
       "      <td>Energy</td>\n",
       "      <td>Online Optimization of Energy-Efficient User A...</td>\n",
       "    </tr>\n",
       "    <tr>\n",
       "      <th>3</th>\n",
       "      <td>2023</td>\n",
       "      <td>Noordwijk</td>\n",
       "      <td>Netherlands</td>\n",
       "      <td>IEEE</td>\n",
       "      <td>Access</td>\n",
       "      <td>Free</td>\n",
       "      <td>Satellite</td>\n",
       "      <td>GEO</td>\n",
       "      <td>No</td>\n",
       "      <td>Yes</td>\n",
       "      <td>NaN</td>\n",
       "      <td>Integer  Programming</td>\n",
       "      <td>Simulation</td>\n",
       "      <td>Traffic</td>\n",
       "      <td>Optimizing Massive MIMO Design for Non Uniform...</td>\n",
       "    </tr>\n",
       "    <tr>\n",
       "      <th>4</th>\n",
       "      <td>2022</td>\n",
       "      <td>Vancouver</td>\n",
       "      <td>Canada</td>\n",
       "      <td>Elsevier</td>\n",
       "      <td>Operations Research Letters</td>\n",
       "      <td>Paywalled</td>\n",
       "      <td>Not Applicable</td>\n",
       "      <td>Not Applicable</td>\n",
       "      <td>Not Applicable</td>\n",
       "      <td>Not Applicable</td>\n",
       "      <td>NaN</td>\n",
       "      <td>MST</td>\n",
       "      <td>Mathematical</td>\n",
       "      <td>General Information</td>\n",
       "      <td>A greedy algorithm for finding maximum spannin...</td>\n",
       "    </tr>\n",
       "  </tbody>\n",
       "</table>\n",
       "</div>"
      ],
      "text/plain": [
       "   Year Author City      Country Publisher               Meta Publisher  \\\n",
       "0  2022      Beirut      Lebanon      IEEE                       Access   \n",
       "1  2022     Beijing        China      IEEE                       Access   \n",
       "2  2022     Beijing        China      IEEE                       Access   \n",
       "3  2023   Noordwijk  Netherlands      IEEE                       Access   \n",
       "4  2022   Vancouver       Canada  Elsevier  Operations Research Letters   \n",
       "\n",
       "      Access Broadband Technology    Sub-category       Open Code  \\\n",
       "0       Free             Wireless          Mobile  Not Applicable   \n",
       "1       Free             Wireless           WI-FI  Not Applicable   \n",
       "2       Free             Wireless          Mobile              No   \n",
       "3       Free            Satellite             GEO              No   \n",
       "4  Paywalled       Not Applicable  Not Applicable  Not Applicable   \n",
       "\n",
       "        Open Data case study             Algorithm        Methodology  \\\n",
       "0  Not Applicable        NaN        Not Applicable  Literature Review   \n",
       "1  Not Applicable        NaN  Integer  Programming              Model   \n",
       "2             Yes        NaN  Integer  Programming         Simulation   \n",
       "3             Yes        NaN  Integer  Programming         Simulation   \n",
       "4  Not Applicable        NaN                   MST       Mathematical   \n",
       "\n",
       "           Application                                              Title  \n",
       "0  General Information  On LTE cellular network planning under demand ...  \n",
       "1              Traffic  Distributed Graph-Based Optimization of Multic...  \n",
       "2               Energy  Online Optimization of Energy-Efficient User A...  \n",
       "3              Traffic  Optimizing Massive MIMO Design for Non Uniform...  \n",
       "4  General Information  A greedy algorithm for finding maximum spannin...  "
      ]
     },
     "execution_count": 3,
     "metadata": {},
     "output_type": "execute_result"
    }
   ],
   "source": [
    "df = pd.read_csv('Optimization Literature review.csv')\n",
    "df.head(5)"
   ]
  },
  {
   "cell_type": "markdown",
   "id": "ab7d6c32-f82e-49e5-bee6-f7b1c6d09075",
   "metadata": {},
   "source": [
    "Group the raw data by database"
   ]
  },
  {
   "cell_type": "code",
   "execution_count": 4,
   "id": "d7610e51-be69-4535-bfda-5a131e77bea1",
   "metadata": {},
   "outputs": [],
   "source": [
    "df1 = df.groupby('Publisher')"
   ]
  },
  {
   "cell_type": "code",
   "execution_count": 5,
   "id": "4ebe4cd6-c42c-49d5-bcad-3c63641ec887",
   "metadata": {},
   "outputs": [],
   "source": [
    "publishers_to_count = ['IEEE', 'Springer', 'Elsevier', 'Wiley']"
   ]
  },
  {
   "cell_type": "code",
   "execution_count": 6,
   "id": "587d0169-8a9f-45e6-babe-0574467bc463",
   "metadata": {},
   "outputs": [
    {
     "data": {
      "text/plain": [
       "(67, 15)"
      ]
     },
     "execution_count": 6,
     "metadata": {},
     "output_type": "execute_result"
    }
   ],
   "source": [
    "df.shape"
   ]
  },
  {
   "cell_type": "code",
   "execution_count": 7,
   "id": "1853939c-1fc4-40ce-8e37-c7eecddf59a2",
   "metadata": {},
   "outputs": [
    {
     "data": {
      "text/plain": [
       "Publisher\n",
       "Elsevier    41\n",
       "IEEE        15\n",
       "Willey       4\n",
       "Springer     2\n",
       "MDPI         1\n",
       "Name: count, dtype: int64"
      ]
     },
     "execution_count": 7,
     "metadata": {},
     "output_type": "execute_result"
    }
   ],
   "source": [
    "publisher_counts = df['Publisher'].value_counts()\n",
    "publisher_counts"
   ]
  },
  {
   "cell_type": "markdown",
   "id": "146ec415-9c12-4483-86c3-23a88dc979de",
   "metadata": {},
   "source": [
    "Remove unnecessary publications such as book chapters"
   ]
  },
  {
   "cell_type": "code",
   "execution_count": 8,
   "id": "a1a1451b-e8eb-4308-8805-41190c53904b",
   "metadata": {},
   "outputs": [
    {
     "data": {
      "text/plain": [
       "(67, 15)"
      ]
     },
     "execution_count": 8,
     "metadata": {},
     "output_type": "execute_result"
    }
   ],
   "source": [
    "df1 = df[df['Meta Publisher'] != 'Book Chapter']\n",
    "df1.shape"
   ]
  },
  {
   "cell_type": "code",
   "execution_count": 13,
   "id": "4f8d6f05-5c13-45e2-b63b-244085ae6c0f",
   "metadata": {},
   "outputs": [],
   "source": [
    "#df1.to_csv('RQ1 Literature review_v2.csv')"
   ]
  },
  {
   "cell_type": "code",
   "execution_count": null,
   "id": "fa92bf8c-e57c-4e87-8446-1f2f0a4284e7",
   "metadata": {},
   "outputs": [],
   "source": []
  }
 ],
 "metadata": {
  "kernelspec": {
   "display_name": "Python 3 (ipykernel)",
   "language": "python",
   "name": "python3"
  },
  "language_info": {
   "codemirror_mode": {
    "name": "ipython",
    "version": 3
   },
   "file_extension": ".py",
   "mimetype": "text/x-python",
   "name": "python",
   "nbconvert_exporter": "python",
   "pygments_lexer": "ipython3",
   "version": "3.12.2"
  }
 },
 "nbformat": 4,
 "nbformat_minor": 5
}
